{
 "cells": [
  {
   "cell_type": "code",
   "execution_count": 2,
   "id": "b214bad5",
   "metadata": {},
   "outputs": [
    {
     "name": "stdout",
     "output_type": "stream",
     "text": [
      "Twinkle,twinkle,little star,\n",
      "              How I wonder what you are|\n",
      "                     Up above the world so high,\n",
      "                     Like a diamond in the sky.\n",
      "Twinkle,twinkle,little star,\n",
      "               How I wounder what you are\n"
     ]
    }
   ],
   "source": [
    "a= '''Twinkle,twinkle,little star,\n",
    "              How I wonder what you are|\n",
    "                     Up above the world so high,\n",
    "                     Like a diamond in the sky.\n",
    "Twinkle,twinkle,little star,\n",
    "               How I wounder what you are'''\n",
    "print(a)"
   ]
  },
  {
   "cell_type": "code",
   "execution_count": 3,
   "id": "dfe4ebf3",
   "metadata": {},
   "outputs": [
    {
     "data": {
      "text/plain": [
       "'3.9.7 (default, Sep 16 2021, 16:59:28) [MSC v.1916 64 bit (AMD64)]'"
      ]
     },
     "execution_count": 3,
     "metadata": {},
     "output_type": "execute_result"
    }
   ],
   "source": [
    "import sys\n",
    "sys.version "
   ]
  },
  {
   "cell_type": "code",
   "execution_count": 4,
   "id": "3b5ace44",
   "metadata": {},
   "outputs": [
    {
     "name": "stdout",
     "output_type": "stream",
     "text": [
      "2021-12-30 05:15:25.792207\n"
     ]
    }
   ],
   "source": [
    "import datetime\n",
    "TodayDate=datetime.datetime.now()\n",
    "print(TodayDate)"
   ]
  },
  {
   "cell_type": "code",
   "execution_count": 26,
   "id": "146ff481",
   "metadata": {},
   "outputs": [
    {
     "name": "stdout",
     "output_type": "stream",
     "text": [
      "Enter the radius of the circle :  6\n",
      "the area of circle is113.09733552923255\n"
     ]
    }
   ],
   "source": [
    "import math \n",
    "radius= float(input(\"Enter the radius of the circle :  \"))\n",
    "area = math.pi * radius * radius\n",
    "print(\"the area of circle is{0}\".format(area))"
   ]
  },
  {
   "cell_type": "code",
   "execution_count": 29,
   "id": "a091a267",
   "metadata": {},
   "outputs": [
    {
     "name": "stdout",
     "output_type": "stream",
     "text": [
      "enter your first name:abdul\n",
      "enter your last name:sami\n",
      "samiabdul\n"
     ]
    }
   ],
   "source": [
    "firstname = input(\"enter your first name:\")\n",
    "lastname = input(\"enter your last name:\")\n",
    "print(lastname + \"\" + firstname)"
   ]
  },
  {
   "cell_type": "code",
   "execution_count": 30,
   "id": "a689b50f",
   "metadata": {},
   "outputs": [
    {
     "name": "stdout",
     "output_type": "stream",
     "text": [
      "enter the first value: 4\n",
      "enter the second value: 7\n",
      "11\n"
     ]
    }
   ],
   "source": [
    "a = int(input(\"enter the first value: \"))\n",
    "b = int(input(\"enter the second value: \" ))\n",
    "print (a + b)"
   ]
  },
  {
   "cell_type": "code",
   "execution_count": null,
   "id": "dd06418b",
   "metadata": {},
   "outputs": [],
   "source": []
  }
 ],
 "metadata": {
  "kernelspec": {
   "display_name": "Python 3 (ipykernel)",
   "language": "python",
   "name": "python3"
  },
  "language_info": {
   "codemirror_mode": {
    "name": "ipython",
    "version": 3
   },
   "file_extension": ".py",
   "mimetype": "text/x-python",
   "name": "python",
   "nbconvert_exporter": "python",
   "pygments_lexer": "ipython3",
   "version": "3.9.7"
  }
 },
 "nbformat": 4,
 "nbformat_minor": 5
}
